{
  "nbformat": 4,
  "nbformat_minor": 0,
  "metadata": {
    "colab": {
      "provenance": [],
      "authorship_tag": "ABX9TyMt7FStKEi9O7pQh05V4hQx",
      "include_colab_link": true
    },
    "kernelspec": {
      "name": "python3",
      "display_name": "Python 3"
    },
    "language_info": {
      "name": "python"
    }
  },
  "cells": [
    {
      "cell_type": "markdown",
      "metadata": {
        "id": "view-in-github",
        "colab_type": "text"
      },
      "source": [
        "<a href=\"https://colab.research.google.com/github/Santapaji/NBC_for_rotten_tomatoes/blob/main/DM_assignment_2.ipynb\" target=\"_parent\"><img src=\"https://colab.research.google.com/assets/colab-badge.svg\" alt=\"Open In Colab\"/></a>"
      ]
    },
    {
      "cell_type": "code",
      "execution_count": null,
      "metadata": {
        "id": "JLXsolBc2aS5"
      },
      "outputs": [],
      "source": [
        "import csv\n",
        "import re\n",
        "from collections import defaultdict\n",
        "from nltk.corpus import stopwords\n",
        "from nltk.stem.porter import PorterStemmer\n",
        "\n",
        "# load stop words\n",
        "stop_words = set(stopwords.words('english'))\n",
        "\n",
        "# initialize Porter stemmer\n",
        "stemmer = PorterStemmer()\n",
        "\n",
        "# initialize vocabulary\n",
        "vocab = defaultdict(int)\n",
        "\n",
        "# load data\n",
        "data = []\n",
        "with open('data/rt_reviews.csv', newline='', encoding='utf-8') as csvfile:\n",
        "    reader = csv.DictReader(csvfile)\n",
        "    for row in reader:\n",
        "        label = row['Freshness']\n",
        "        text = row['Review']\n",
        "        \n",
        "        # tokenize text\n",
        "        words = re.findall(r'\\b\\w+\\b', text)\n",
        "        \n",
        "        # remove stop words and stem words\n",
        "        words = [stemmer.stem(word.lower()) for word in words if word.lower() not in stop_words]\n",
        "        \n",
        "        # update vocabulary\n",
        "        for word in words:\n",
        "            vocab[word] += 1\n",
        "        \n",
        "        # add labeled data\n",
        "        data.append((words, label))\n",
        "\n",
        "# build vocabulary\n",
        "vocab = {word: i for i, (word, count) in enumerate(vocab.items()) if count >= 5}\n",
        "\n",
        "# build reverse index\n",
        "index = {i: word for word, i in vocab.items()}\n"
      ]
    },
    {
      "cell_type": "code",
      "source": [
        "import math\n",
        "\n",
        "# initialize prior probabilities\n",
        "num_fresh = sum(1 for _, label in data if label == 'Fresh')\n",
        "num_rotten = sum(1 for _, label in data if label == 'Rotten')\n",
        "prior_fresh = num_fresh / len(data)\n",
        "prior_rotten = num_rotten / len(data)\n",
        "\n",
        "# initialize conditional probabilities\n",
        "cond_fresh = defaultdict(float)\n",
        "cond_rotten = defaultdict(float)\n",
        "\n",
        "# calculate conditional probabilities\n",
        "for words, label in data:\n",
        "    for word in words:\n",
        "        if word in vocab:\n",
        "            if label == 'Fresh':\n",
        "                cond_fresh[word] += 1\n",
        "            else:\n",
        "                cond_rotten[word] += 1\n",
        "\n",
        "# normalize conditional probabilities\n",
        "for word in vocab:\n",
        "    cond_fresh[word] = (cond_fresh[word] + 1) / (num_fresh + 2)\n",
        "    cond_rotten[word] = (cond_rotten[word] + 1) / (num_rotten + 2)\n",
        "\n",
        "# define predict function\n",
        "def predict(words):\n",
        "    # calculate probability of Fresh\n",
        "    prob_fresh = math.log(prior_fresh)\n",
        "    for word in words:\n",
        "        if word in vocab:\n",
        "            prob_fresh += math.log(cond_fresh[word])\n",
        "    \n",
        "    # calculate probability of Rotten\n",
        "    prob_rotten = math.log(prior_rotten)\n",
        "    for word in words:\n",
        "        if word in vocab:\n",
        "            prob_rotten += math.log(cond_rotten[word])\n",
        "    \n",
        "    # return class with higher probability\n",
        "    if prob_fresh > prob_rotten:\n",
        "        return 'Fresh'\n",
        "    else:\n",
        "        return 'Rotten'\n"
      ],
      "metadata": {
        "id": "PjZ3PM3SIkb_"
      },
      "execution_count": null,
      "outputs": []
    },
    {
      "cell_type": "code",
      "source": [
        "# load dev data\n",
        "dev_data = []\n",
        "with open('data/rotten_tomatoes_dev.csv', newline='', encoding='utf-8') as csvfile:\n",
        "    reader = csv.DictReader(csvfile)\n",
        "    for row in reader:\n",
        "        label = row['Freshness']\n",
        "        text = row['Review']\n",
        "        \n",
        "        # tokenize\n"
      ],
      "metadata": {
        "id": "VfCEfoOSIpVE"
      },
      "execution_count": null,
      "outputs": []
    },
    {
      "cell_type": "code",
      "source": [
        "# tokenize dev data\n",
        "for text, label in dev_raw:\n",
        "    words = tokenize(text)\n",
        "    dev_data.append((words, label))\n",
        "\n",
        "# evaluate performance on dev dataset\n",
        "num_correct = 0\n",
        "for words, label in dev_data:\n",
        "    predicted_label = predict(words)\n",
        "    if predicted_label == label:\n",
        "        num_correct += 1\n",
        "\n",
        "accuracy = num_correct / len(dev_data)\n",
        "print('Accuracy on dev dataset:', accuracy)\n"
      ],
      "metadata": {
        "id": "UgRxkzMYIrMx"
      },
      "execution_count": null,
      "outputs": []
    }
  ]
}